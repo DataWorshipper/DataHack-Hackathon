{
 "cells": [
  {
   "cell_type": "code",
   "execution_count": 1,
   "id": "d09ca810",
   "metadata": {
    "_cell_guid": "b1076dfc-b9ad-4769-8c92-a6c4dae69d19",
    "_uuid": "8f2839f25d086af736a60e9eeb907d3b93b6e0e5",
    "execution": {
     "iopub.execute_input": "2024-06-17T18:05:19.819815Z",
     "iopub.status.busy": "2024-06-17T18:05:19.819409Z",
     "iopub.status.idle": "2024-06-17T18:05:20.672271Z",
     "shell.execute_reply": "2024-06-17T18:05:20.670951Z"
    },
    "papermill": {
     "duration": 0.871307,
     "end_time": "2024-06-17T18:05:20.675197",
     "exception": false,
     "start_time": "2024-06-17T18:05:19.803890",
     "status": "completed"
    },
    "tags": []
   },
   "outputs": [
    {
     "name": "stdout",
     "output_type": "stream",
     "text": [
      "/kaggle/input/hackathon/training_set_features.csv\n",
      "/kaggle/input/hackathon/test_set_features.csv\n",
      "/kaggle/input/hackathon/training_set_labels.csv\n",
      "/kaggle/input/hackathon/submission_format.csv\n"
     ]
    }
   ],
   "source": [
    "# This Python 3 environment comes with many helpful analytics libraries installed\n",
    "# It is defined by the kaggle/python Docker image: https://github.com/kaggle/docker-python\n",
    "# For example, here's several helpful packages to load\n",
    "\n",
    "import numpy as np # linear algebra\n",
    "import pandas as pd # data processing, CSV file I/O (e.g. pd.read_csv)\n",
    "\n",
    "# Input data files are available in the read-only \"../input/\" directory\n",
    "# For example, running this (by clicking run or pressing Shift+Enter) will list all files under the input directory\n",
    "\n",
    "import os\n",
    "for dirname, _, filenames in os.walk('/kaggle/input'):\n",
    "    for filename in filenames:\n",
    "        print(os.path.join(dirname, filename))\n",
    "\n",
    "# You can write up to 20GB to the current directory (/kaggle/working/) that gets preserved as output when you create a version using \"Save & Run All\" \n",
    "# You can also write temporary files to /kaggle/temp/, but they won't be saved outside of the current session"
   ]
  },
  {
   "cell_type": "code",
   "execution_count": 2,
   "id": "da523abd",
   "metadata": {
    "execution": {
     "iopub.execute_input": "2024-06-17T18:05:20.703259Z",
     "iopub.status.busy": "2024-06-17T18:05:20.702697Z",
     "iopub.status.idle": "2024-06-17T18:05:21.113871Z",
     "shell.execute_reply": "2024-06-17T18:05:21.112700Z"
    },
    "papermill": {
     "duration": 0.428253,
     "end_time": "2024-06-17T18:05:21.116619",
     "exception": false,
     "start_time": "2024-06-17T18:05:20.688366",
     "status": "completed"
    },
    "tags": []
   },
   "outputs": [],
   "source": [
    "df_train=pd.read_csv(\"/kaggle/input/hackathon/training_set_features.csv\")\n",
    "df_labels=pd.read_csv(\"/kaggle/input/hackathon/training_set_labels.csv\")\n",
    "df_test=pd.read_csv(\"/kaggle/input/hackathon/test_set_features.csv\")"
   ]
  },
  {
   "cell_type": "code",
   "execution_count": 3,
   "id": "2993f3c9",
   "metadata": {
    "execution": {
     "iopub.execute_input": "2024-06-17T18:05:21.144605Z",
     "iopub.status.busy": "2024-06-17T18:05:21.144198Z",
     "iopub.status.idle": "2024-06-17T18:05:21.224534Z",
     "shell.execute_reply": "2024-06-17T18:05:21.223222Z"
    },
    "papermill": {
     "duration": 0.097851,
     "end_time": "2024-06-17T18:05:21.227285",
     "exception": false,
     "start_time": "2024-06-17T18:05:21.129434",
     "status": "completed"
    },
    "tags": []
   },
   "outputs": [
    {
     "name": "stdout",
     "output_type": "stream",
     "text": [
      "respondent_id                      0\n",
      "xyz_concern                       92\n",
      "xyz_knowledge                    116\n",
      "behavioral_antiviral_meds         71\n",
      "behavioral_avoidance             208\n",
      "behavioral_face_mask              19\n",
      "behavioral_wash_hands             42\n",
      "behavioral_large_gatherings       87\n",
      "behavioral_outside_home           82\n",
      "behavioral_touch_face            128\n",
      "doctor_recc_xyz                 2160\n",
      "doctor_recc_seasonal            2160\n",
      "chronic_med_condition            971\n",
      "child_under_6_months             820\n",
      "health_worker                    804\n",
      "health_insurance               12274\n",
      "opinion_xyz_vacc_effective       391\n",
      "opinion_xyz_risk                 388\n",
      "opinion_xyz_sick_from_vacc       395\n",
      "opinion_seas_vacc_effective      462\n",
      "opinion_seas_risk                514\n",
      "opinion_seas_sick_from_vacc      537\n",
      "age_group                          0\n",
      "education                       1407\n",
      "race                               0\n",
      "sex                                0\n",
      "income_poverty                  4423\n",
      "marital_status                  1408\n",
      "rent_or_own                     2042\n",
      "employment_status               1463\n",
      "hhs_geo_region                     0\n",
      "census_msa                         0\n",
      "household_adults                 249\n",
      "household_children               249\n",
      "employment_industry            13330\n",
      "employment_occupation          13470\n",
      "dtype: int64\n",
      "respondent_id                      0\n",
      "xyz_concern                       85\n",
      "xyz_knowledge                    122\n",
      "behavioral_antiviral_meds         79\n",
      "behavioral_avoidance             213\n",
      "behavioral_face_mask              19\n",
      "behavioral_wash_hands             40\n",
      "behavioral_large_gatherings       72\n",
      "behavioral_outside_home           82\n",
      "behavioral_touch_face            128\n",
      "doctor_recc_xyz                 2160\n",
      "doctor_recc_seasonal            2160\n",
      "chronic_med_condition            932\n",
      "child_under_6_months             813\n",
      "health_worker                    789\n",
      "health_insurance               12228\n",
      "opinion_xyz_vacc_effective       398\n",
      "opinion_xyz_risk                 380\n",
      "opinion_xyz_sick_from_vacc       375\n",
      "opinion_seas_vacc_effective      452\n",
      "opinion_seas_risk                499\n",
      "opinion_seas_sick_from_vacc      521\n",
      "age_group                          0\n",
      "education                       1407\n",
      "race                               0\n",
      "sex                                0\n",
      "income_poverty                  4497\n",
      "marital_status                  1442\n",
      "rent_or_own                     2036\n",
      "employment_status               1471\n",
      "hhs_geo_region                     0\n",
      "census_msa                         0\n",
      "household_adults                 225\n",
      "household_children               225\n",
      "employment_industry            13275\n",
      "employment_occupation          13426\n",
      "dtype: int64\n"
     ]
    }
   ],
   "source": [
    "print(df_train.isnull().sum())\n",
    "print(df_test.isnull().sum())"
   ]
  },
  {
   "cell_type": "code",
   "execution_count": 4,
   "id": "c17d7c09",
   "metadata": {
    "execution": {
     "iopub.execute_input": "2024-06-17T18:05:21.255015Z",
     "iopub.status.busy": "2024-06-17T18:05:21.254574Z",
     "iopub.status.idle": "2024-06-17T18:05:21.259878Z",
     "shell.execute_reply": "2024-06-17T18:05:21.258818Z"
    },
    "papermill": {
     "duration": 0.022201,
     "end_time": "2024-06-17T18:05:21.262356",
     "exception": false,
     "start_time": "2024-06-17T18:05:21.240155",
     "status": "completed"
    },
    "tags": []
   },
   "outputs": [],
   "source": [
    "import warnings \n",
    "warnings.filterwarnings('ignore')"
   ]
  },
  {
   "cell_type": "code",
   "execution_count": 5,
   "id": "3df7bf0f",
   "metadata": {
    "execution": {
     "iopub.execute_input": "2024-06-17T18:05:21.290815Z",
     "iopub.status.busy": "2024-06-17T18:05:21.290393Z",
     "iopub.status.idle": "2024-06-17T18:05:21.339203Z",
     "shell.execute_reply": "2024-06-17T18:05:21.338249Z"
    },
    "papermill": {
     "duration": 0.06665,
     "end_time": "2024-06-17T18:05:21.341954",
     "exception": false,
     "start_time": "2024-06-17T18:05:21.275304",
     "status": "completed"
    },
    "tags": []
   },
   "outputs": [],
   "source": [
    "df_train['xyz_concern'].fillna(df_train['xyz_concern'].mode()[0],inplace=True)\n",
    "df_train['xyz_knowledge'].fillna(df_train['xyz_knowledge'].mode()[0],inplace=True)\n",
    "df_train['behavioral_antiviral_meds'].fillna(df_train['behavioral_antiviral_meds'].mode()[0],inplace=True)\n",
    "df_train['behavioral_avoidance'].fillna(df_train['behavioral_avoidance'].mode()[0],inplace=True)\n",
    "df_train['behavioral_face_mask'].fillna(df_train['behavioral_face_mask'].mode()[0],inplace=True)\n",
    "df_train['behavioral_wash_hands'].fillna(df_train['behavioral_wash_hands'].mode()[0],inplace=True)\n",
    "df_train['behavioral_large_gatherings'].fillna(df_train['behavioral_large_gatherings'].mode()[0],inplace=True)\n",
    "df_train['behavioral_outside_home'].fillna(df_train['behavioral_outside_home'].mode()[0],inplace=True)\n",
    "df_train['behavioral_touch_face'].fillna(df_train['behavioral_touch_face'].mode()[0],inplace=True)\n",
    "df_train['household_adults'].fillna(df_train['household_adults'].mode()[0],inplace=True)\n",
    "df_train['household_children'].fillna(df_train['household_children'].mode()[0],inplace=True)\n",
    "\n",
    "df_test['xyz_concern'].fillna(df_test['xyz_concern'].mode()[0],inplace=True)\n",
    "df_test['xyz_knowledge'].fillna(df_test['xyz_knowledge'].mode()[0],inplace=True)\n",
    "df_test['behavioral_antiviral_meds'].fillna(df_test['behavioral_antiviral_meds'].mode()[0],inplace=True)\n",
    "df_test['behavioral_avoidance'].fillna(df_test['behavioral_avoidance'].mode()[0],inplace=True)\n",
    "df_test['behavioral_face_mask'].fillna(df_test['behavioral_face_mask'].mode()[0],inplace=True)\n",
    "df_test['behavioral_wash_hands'].fillna(df_test['behavioral_wash_hands'].mode()[0],inplace=True)\n",
    "df_test['behavioral_large_gatherings'].fillna(df_test['behavioral_large_gatherings'].mode()[0],inplace=True)\n",
    "df_test['behavioral_outside_home'].fillna(df_test['behavioral_outside_home'].mode()[0],inplace=True)\n",
    "df_test['behavioral_touch_face'].fillna(df_test['behavioral_touch_face'].mode()[0],inplace=True)\n",
    "df_test['household_adults'].fillna(df_test['household_adults'].mode()[0],inplace=True)\n",
    "df_test['household_children'].fillna(df_test['household_children'].mode()[0],inplace=True)"
   ]
  },
  {
   "cell_type": "code",
   "execution_count": 6,
   "id": "8e0325ae",
   "metadata": {
    "execution": {
     "iopub.execute_input": "2024-06-17T18:05:21.370261Z",
     "iopub.status.busy": "2024-06-17T18:05:21.369554Z",
     "iopub.status.idle": "2024-06-17T18:05:21.426498Z",
     "shell.execute_reply": "2024-06-17T18:05:21.425469Z"
    },
    "papermill": {
     "duration": 0.07427,
     "end_time": "2024-06-17T18:05:21.429294",
     "exception": false,
     "start_time": "2024-06-17T18:05:21.355024",
     "status": "completed"
    },
    "tags": []
   },
   "outputs": [],
   "source": [
    "df_train['opinion_xyz_vacc_effective'].fillna(df_train['opinion_xyz_vacc_effective'].mode()[0],inplace=True)\n",
    "df_test['opinion_xyz_vacc_effective'].fillna(df_test['opinion_xyz_vacc_effective'].mode()[0],inplace=True)\n",
    "\n",
    "df_train['opinion_xyz_risk'].fillna(df_train['opinion_xyz_risk'].mode()[0],inplace=True)\n",
    "df_train['opinion_xyz_sick_from_vacc'].fillna(df_train['opinion_xyz_sick_from_vacc'].mode()[0],inplace=True)\n",
    "df_train['opinion_seas_sick_from_vacc'].fillna(df_train['opinion_seas_sick_from_vacc'].mode()[0],inplace=True)\n",
    "df_train['opinion_seas_risk'].fillna(df_train['opinion_seas_risk'].mode()[0],inplace=True)\n",
    "df_train['opinion_seas_vacc_effective'].fillna(df_train['opinion_seas_vacc_effective'].mode()[0],inplace=True)\n",
    "\n",
    "df_test['opinion_xyz_risk'].fillna(df_test['opinion_xyz_risk'].mode()[0],inplace=True)\n",
    "df_test['opinion_xyz_sick_from_vacc'].fillna(df_test['opinion_xyz_sick_from_vacc'].mode()[0],inplace=True)\n",
    "df_test['opinion_seas_sick_from_vacc'].fillna(df_test['opinion_seas_sick_from_vacc'].mode()[0],inplace=True)\n",
    "df_test['opinion_seas_risk'].fillna(df_test['opinion_seas_risk'].mode()[0],inplace=True)\n",
    "df_test['opinion_seas_vacc_effective'].fillna(df_test['opinion_seas_vacc_effective'].mode()[0],inplace=True)\n",
    "\n",
    "df_train['doctor_recc_xyz'].fillna(df_train['doctor_recc_xyz'].mode()[0],inplace=True)\n",
    "df_train['doctor_recc_seasonal'].fillna(df_train['doctor_recc_seasonal'].mode()[0],inplace=True)\n",
    "df_train['chronic_med_condition'].fillna(df_train['chronic_med_condition'].mode()[0],inplace=True)\n",
    "df_train['child_under_6_months'].fillna(df_train['child_under_6_months'].mode()[0],inplace=True)\n",
    "df_train['health_worker'].fillna(df_train['health_worker'].mode()[0],inplace=True)\n",
    "\n",
    "df_test['doctor_recc_xyz'].fillna(df_test['doctor_recc_xyz'].mode()[0],inplace=True)\n",
    "df_test['doctor_recc_seasonal'].fillna(df_test['doctor_recc_seasonal'].mode()[0],inplace=True)\n",
    "df_test['chronic_med_condition'].fillna(df_test['chronic_med_condition'].mode()[0],inplace=True)\n",
    "df_test['child_under_6_months'].fillna(df_test['child_under_6_months'].mode()[0],inplace=True)\n",
    "df_test['health_worker'].fillna(df_test['health_worker'].mode()[0],inplace=True)\n",
    "\n",
    "df_train.drop(columns=['employment_industry','employment_occupation'],inplace=True)\n",
    "df_test.drop(columns=['employment_industry','employment_occupation'],inplace=True)\n",
    "\n"
   ]
  },
  {
   "cell_type": "code",
   "execution_count": 7,
   "id": "5e70af21",
   "metadata": {
    "execution": {
     "iopub.execute_input": "2024-06-17T18:05:21.456745Z",
     "iopub.status.busy": "2024-06-17T18:05:21.456309Z",
     "iopub.status.idle": "2024-06-17T18:05:21.471273Z",
     "shell.execute_reply": "2024-06-17T18:05:21.470347Z"
    },
    "papermill": {
     "duration": 0.031613,
     "end_time": "2024-06-17T18:05:21.473798",
     "exception": false,
     "start_time": "2024-06-17T18:05:21.442185",
     "status": "completed"
    },
    "tags": []
   },
   "outputs": [],
   "source": [
    "count_train=df_train['health_insurance'].value_counts(normalize=True)\n",
    "count_test=df_test['health_insurance'].value_counts(normalize=True)\n",
    "\n",
    "n_ones_train=count_train[1]*df_train['health_insurance'].isna().sum()\n",
    "n_zeros_train=count_train[0]*df_train['health_insurance'].isna().sum()\n",
    "n_ones_train=round(n_ones_train)\n",
    "n_zeros_train=round(n_zeros_train)\n",
    "\n",
    "n_ones_test=count_test[1]*df_test['health_insurance'].isna().sum()\n",
    "n_zeros_test=count_test[0]*df_test['health_insurance'].isna().sum()\n",
    "n_ones_test=round(n_ones_test)\n",
    "n_zeros_test=round(n_zeros_test)"
   ]
  },
  {
   "cell_type": "code",
   "execution_count": 8,
   "id": "69282d1e",
   "metadata": {
    "execution": {
     "iopub.execute_input": "2024-06-17T18:05:21.502581Z",
     "iopub.status.busy": "2024-06-17T18:05:21.502178Z",
     "iopub.status.idle": "2024-06-17T18:05:21.509691Z",
     "shell.execute_reply": "2024-06-17T18:05:21.508492Z"
    },
    "papermill": {
     "duration": 0.024972,
     "end_time": "2024-06-17T18:05:21.512244",
     "exception": false,
     "start_time": "2024-06-17T18:05:21.487272",
     "status": "completed"
    },
    "tags": []
   },
   "outputs": [],
   "source": [
    "impute_array_train=[1]*n_ones_train+[0]*n_zeros_train\n",
    "np.random.shuffle(impute_array_train)\n",
    "\n",
    "impute_array_test=[1]*n_ones_test+[0]*n_zeros_test\n",
    "np.random.shuffle(impute_array_test)"
   ]
  },
  {
   "cell_type": "code",
   "execution_count": 9,
   "id": "18766ba9",
   "metadata": {
    "execution": {
     "iopub.execute_input": "2024-06-17T18:05:21.539897Z",
     "iopub.status.busy": "2024-06-17T18:05:21.539474Z",
     "iopub.status.idle": "2024-06-17T18:05:21.553676Z",
     "shell.execute_reply": "2024-06-17T18:05:21.552543Z"
    },
    "papermill": {
     "duration": 0.031033,
     "end_time": "2024-06-17T18:05:21.556313",
     "exception": false,
     "start_time": "2024-06-17T18:05:21.525280",
     "status": "completed"
    },
    "tags": []
   },
   "outputs": [],
   "source": [
    "df_train['health_insurance'].loc[df_train['health_insurance'].isna()]=impute_array_train\n",
    "df_test['health_insurance'].loc[df_test['health_insurance'].isna()]=impute_array_test"
   ]
  },
  {
   "cell_type": "code",
   "execution_count": 10,
   "id": "da0d10a0",
   "metadata": {
    "execution": {
     "iopub.execute_input": "2024-06-17T18:05:21.584628Z",
     "iopub.status.busy": "2024-06-17T18:05:21.584239Z",
     "iopub.status.idle": "2024-06-17T18:05:22.753598Z",
     "shell.execute_reply": "2024-06-17T18:05:22.752440Z"
    },
    "papermill": {
     "duration": 1.186794,
     "end_time": "2024-06-17T18:05:22.756440",
     "exception": false,
     "start_time": "2024-06-17T18:05:21.569646",
     "status": "completed"
    },
    "tags": []
   },
   "outputs": [],
   "source": [
    "from sklearn.preprocessing import OrdinalEncoder\n",
    "categories=[['Below Poverty','<= $75,000, Above Poverty','> $75,000']]\n",
    "encoder=OrdinalEncoder(categories=categories)\n",
    "\n",
    "non_missing=df_train['income_poverty'].dropna().to_frame()\n",
    "encoded_non_missing = encoder.fit_transform(non_missing)\n",
    "encoded_non_missing=encoded_non_missing.flatten() \n",
    "df_train['income_poverty'].loc[df_train['income_poverty'].notna()]=encoded_non_missing\n",
    "\n",
    "from sklearn.preprocessing import OrdinalEncoder\n",
    "categories=[['Below Poverty','<= $75,000, Above Poverty','> $75,000']]\n",
    "encoder=OrdinalEncoder(categories=categories)\n",
    "\n",
    "non_missing_test=df_test['income_poverty'].dropna().to_frame()\n",
    "encoded_non_missing_test = encoder.fit_transform(non_missing_test)\n",
    "encoded_non_missing_test=encoded_non_missing_test.flatten() \n",
    "df_test['income_poverty'].loc[df_test['income_poverty'].notna()]=encoded_non_missing_test"
   ]
  },
  {
   "cell_type": "code",
   "execution_count": 11,
   "id": "c0593f3d",
   "metadata": {
    "execution": {
     "iopub.execute_input": "2024-06-17T18:05:22.785207Z",
     "iopub.status.busy": "2024-06-17T18:05:22.784786Z",
     "iopub.status.idle": "2024-06-17T18:05:22.800606Z",
     "shell.execute_reply": "2024-06-17T18:05:22.799671Z"
    },
    "papermill": {
     "duration": 0.033107,
     "end_time": "2024-06-17T18:05:22.803158",
     "exception": false,
     "start_time": "2024-06-17T18:05:22.770051",
     "status": "completed"
    },
    "tags": []
   },
   "outputs": [],
   "source": [
    "count_train=df_train['income_poverty'].value_counts(normalize=True)\n",
    "count_test=df_test['income_poverty'].value_counts(normalize=True)\n",
    "\n",
    "n_ones_test=round(count_test[1]*4497)-1\n",
    "n_zero_test=round(count_test[0]*4497)\n",
    "n_two_test=round(count_test[2]*4497)\n",
    "\n",
    "n_ones_train=round(count_train[1]*4423)\n",
    "n_zero_train=round(count_train[0]*4423)\n",
    "n_two_train=round(count_train[2]*4423)"
   ]
  },
  {
   "cell_type": "code",
   "execution_count": 12,
   "id": "67aca6d5",
   "metadata": {
    "execution": {
     "iopub.execute_input": "2024-06-17T18:05:22.831014Z",
     "iopub.status.busy": "2024-06-17T18:05:22.830608Z",
     "iopub.status.idle": "2024-06-17T18:05:22.845239Z",
     "shell.execute_reply": "2024-06-17T18:05:22.844133Z"
    },
    "papermill": {
     "duration": 0.031205,
     "end_time": "2024-06-17T18:05:22.847642",
     "exception": false,
     "start_time": "2024-06-17T18:05:22.816437",
     "status": "completed"
    },
    "tags": []
   },
   "outputs": [],
   "source": [
    "impute_train=[1]*n_ones_train+[0]*n_zero_train+[2]*n_two_train\n",
    "np.random.shuffle(impute_train)\n",
    "df_train['income_poverty'].loc[df_train['income_poverty'].isna()]=impute_train\n",
    "\n",
    "impute_test=[1]*n_ones_test+[0]*n_zero_test+[2]*n_two_test\n",
    "np.random.shuffle(impute_test)\n",
    "df_test['income_poverty'].loc[df_test['income_poverty'].isna()]=impute_test\n",
    "\n"
   ]
  },
  {
   "cell_type": "code",
   "execution_count": 13,
   "id": "bcddfd90",
   "metadata": {
    "execution": {
     "iopub.execute_input": "2024-06-17T18:05:22.875348Z",
     "iopub.status.busy": "2024-06-17T18:05:22.874922Z",
     "iopub.status.idle": "2024-06-17T18:05:22.942973Z",
     "shell.execute_reply": "2024-06-17T18:05:22.941746Z"
    },
    "papermill": {
     "duration": 0.084851,
     "end_time": "2024-06-17T18:05:22.945621",
     "exception": false,
     "start_time": "2024-06-17T18:05:22.860770",
     "status": "completed"
    },
    "tags": []
   },
   "outputs": [],
   "source": [
    "encoder=OrdinalEncoder(categories=[['< 12 Years','12 Years','Some College','College Graduate']])\n",
    "non_missing_train=df_train['education'].dropna().to_frame()\n",
    "encoded_education_train=encoder.fit_transform(non_missing_train)\n",
    "encoded_education_train=encoded_education_train.flatten()\n",
    "df_train['education'].loc[df_train['education'].notna()]=encoded_education_train\n",
    "\n",
    "encoder=OrdinalEncoder(categories=[['< 12 Years','12 Years','Some College','College Graduate']])\n",
    "non_missing_test=df_test['education'].dropna().to_frame()\n",
    "encoded_education_test=encoder.fit_transform(non_missing_test)\n",
    "encoded_education_test=encoded_education_test.flatten()\n",
    "df_test['education'].loc[df_test['education'].notna()]=encoded_education_test\n",
    "\n",
    "count_train=df_train['education'].value_counts(normalize=True)\n",
    "count_test=df_test['education'].value_counts(normalize=True)\n",
    "n_3=round(count_test[3]*1407)\n",
    "n_2=round(count_test[2]*1407)\n",
    "n_1=round(count_test[1]*1407)\n",
    "n_0=round(count_test[0]*1407)\n",
    "impute_test=[3]*n_3+[2]*n_2+[1]*n_1+n_0*[0]\n",
    "np.random.shuffle(impute_train)\n",
    "\n",
    "n_3_train=round(count_train[3]*1407)\n",
    "n_2_train=round(count_train[2]*1407)\n",
    "n_1_train=round(count_train[1]*1407)\n",
    "n_0_train=round(count_train[0]*1407)\n",
    "impute_train=[3]*n_3_train+[2]*n_2_train+[1]*n_1_train+n_0_train*[0]\n",
    "np.random.shuffle(impute_train)\n",
    "\n",
    "df_train['education'].loc[df_train['education'].isna()]=impute_train\n",
    "df_test['education'].loc[df_test['education'].isna()]=impute_test\n",
    "\n",
    "\n",
    "\n",
    "\n"
   ]
  },
  {
   "cell_type": "code",
   "execution_count": 14,
   "id": "380463c8",
   "metadata": {
    "execution": {
     "iopub.execute_input": "2024-06-17T18:05:22.973286Z",
     "iopub.status.busy": "2024-06-17T18:05:22.972862Z",
     "iopub.status.idle": "2024-06-17T18:05:23.006681Z",
     "shell.execute_reply": "2024-06-17T18:05:23.005790Z"
    },
    "papermill": {
     "duration": 0.050717,
     "end_time": "2024-06-17T18:05:23.009380",
     "exception": false,
     "start_time": "2024-06-17T18:05:22.958663",
     "status": "completed"
    },
    "tags": []
   },
   "outputs": [],
   "source": [
    "df_train['marital_status'][df_train['marital_status']=='Married']=1\n",
    "df_train['marital_status'][df_train['marital_status']=='Not Married']=0\n",
    "\n",
    "df_test['marital_status'][df_test['marital_status']=='Married']=1\n",
    "df_test['marital_status'][df_test['marital_status']=='Not Married']=0\n",
    "  "
   ]
  },
  {
   "cell_type": "code",
   "execution_count": 15,
   "id": "617eb96e",
   "metadata": {
    "execution": {
     "iopub.execute_input": "2024-06-17T18:05:23.037933Z",
     "iopub.status.busy": "2024-06-17T18:05:23.037509Z",
     "iopub.status.idle": "2024-06-17T18:05:23.065321Z",
     "shell.execute_reply": "2024-06-17T18:05:23.064274Z"
    },
    "papermill": {
     "duration": 0.045253,
     "end_time": "2024-06-17T18:05:23.068030",
     "exception": false,
     "start_time": "2024-06-17T18:05:23.022777",
     "status": "completed"
    },
    "tags": []
   },
   "outputs": [],
   "source": [
    "count_test=df_test['marital_status'].value_counts(normalize=True)\n",
    "impute_test=[1]*round(count_test[1]*1442)+[0]*round(count_test[0]*1442)\n",
    "np.random.shuffle(impute_test)\n",
    "\n",
    "count_train=df_train['marital_status'].value_counts(normalize=True)\n",
    "impute_train=[1]*round(count_train[1]*1408)+[0]*round(count_train[0]*1408)\n",
    "np.random.shuffle(impute_train)\n",
    "\n",
    "df_train['marital_status'].loc[df_train['marital_status'].isna()]=impute_train\n",
    "df_test['marital_status'].loc[df_test['marital_status'].isna()]=impute_test\n",
    "\n",
    "                \n",
    "\n"
   ]
  },
  {
   "cell_type": "code",
   "execution_count": 16,
   "id": "cb06fe5f",
   "metadata": {
    "execution": {
     "iopub.execute_input": "2024-06-17T18:05:23.096474Z",
     "iopub.status.busy": "2024-06-17T18:05:23.096083Z",
     "iopub.status.idle": "2024-06-17T18:05:23.142608Z",
     "shell.execute_reply": "2024-06-17T18:05:23.141440Z"
    },
    "papermill": {
     "duration": 0.064163,
     "end_time": "2024-06-17T18:05:23.145569",
     "exception": false,
     "start_time": "2024-06-17T18:05:23.081406",
     "status": "completed"
    },
    "tags": []
   },
   "outputs": [],
   "source": [
    "df_train['rent_or_own'].fillna(df_train['rent_or_own'].mode()[0],inplace=True)\n",
    "df_test['rent_or_own'].fillna(df_test['rent_or_own'].mode()[0],inplace=True)\n",
    "df_train.drop(columns=['employment_status'],inplace=True)\n",
    "df_train.drop(columns=['respondent_id'],inplace=True)\n",
    "df_test.drop(columns=['employment_status'],inplace=True)\n",
    "df_test.drop(columns=['respondent_id'],inplace=True)"
   ]
  },
  {
   "cell_type": "code",
   "execution_count": 17,
   "id": "a5a2eba5",
   "metadata": {
    "execution": {
     "iopub.execute_input": "2024-06-17T18:05:23.173387Z",
     "iopub.status.busy": "2024-06-17T18:05:23.172979Z",
     "iopub.status.idle": "2024-06-17T18:05:23.188742Z",
     "shell.execute_reply": "2024-06-17T18:05:23.187533Z"
    },
    "papermill": {
     "duration": 0.032811,
     "end_time": "2024-06-17T18:05:23.191516",
     "exception": false,
     "start_time": "2024-06-17T18:05:23.158705",
     "status": "completed"
    },
    "tags": []
   },
   "outputs": [],
   "source": [
    "df_train.drop(columns=['census_msa','hhs_geo_region'],inplace=True)\n",
    "df_test.drop(columns=['census_msa','hhs_geo_region'],inplace=True)"
   ]
  },
  {
   "cell_type": "code",
   "execution_count": 18,
   "id": "638de414",
   "metadata": {
    "execution": {
     "iopub.execute_input": "2024-06-17T18:05:23.219103Z",
     "iopub.status.busy": "2024-06-17T18:05:23.218677Z",
     "iopub.status.idle": "2024-06-17T18:05:23.261968Z",
     "shell.execute_reply": "2024-06-17T18:05:23.260866Z"
    },
    "papermill": {
     "duration": 0.060095,
     "end_time": "2024-06-17T18:05:23.264749",
     "exception": false,
     "start_time": "2024-06-17T18:05:23.204654",
     "status": "completed"
    },
    "tags": []
   },
   "outputs": [],
   "source": [
    "from sklearn.preprocessing import OneHotEncoder\n",
    "encoder = OneHotEncoder()\n",
    "encoded_data_train = encoder.fit_transform(df_train[['sex']])\n",
    "\n",
    "encoder = OneHotEncoder()\n",
    "encoded_data_test = encoder.fit_transform(df_test[['sex']])\n",
    "\n",
    "encoded_df_train = pd.DataFrame(encoded_data_train.toarray(), columns=encoder.categories_[0])\n",
    "encoded_df_test = pd.DataFrame(encoded_data_test.toarray(), columns=encoder.categories_[0])\n",
    "\n",
    "new_df_train=pd.concat([df_train,encoded_df_train],axis=1)\n",
    "new_df_test=pd.concat([df_test,encoded_df_test],axis=1)\n"
   ]
  },
  {
   "cell_type": "code",
   "execution_count": 19,
   "id": "1a4dcd0d",
   "metadata": {
    "execution": {
     "iopub.execute_input": "2024-06-17T18:05:23.292316Z",
     "iopub.status.busy": "2024-06-17T18:05:23.291894Z",
     "iopub.status.idle": "2024-06-17T18:05:23.321736Z",
     "shell.execute_reply": "2024-06-17T18:05:23.320526Z"
    },
    "papermill": {
     "duration": 0.046914,
     "end_time": "2024-06-17T18:05:23.324713",
     "exception": false,
     "start_time": "2024-06-17T18:05:23.277799",
     "status": "completed"
    },
    "tags": []
   },
   "outputs": [],
   "source": [
    "encoder=OrdinalEncoder(categories=[['18 - 34 Years','35 - 44 Years','45 - 54 Years','55 - 64 Years','65+ Years']])\n",
    "new_df_train['age_group']=encoder.fit_transform(new_df_train[['age_group']])\n",
    "encoder=OrdinalEncoder(categories=[['18 - 34 Years','35 - 44 Years','45 - 54 Years','55 - 64 Years','65+ Years']])\n",
    "new_df_test['age_group']=encoder.fit_transform(new_df_test[['age_group']])"
   ]
  },
  {
   "cell_type": "code",
   "execution_count": 20,
   "id": "709dda37",
   "metadata": {
    "execution": {
     "iopub.execute_input": "2024-06-17T18:05:23.353717Z",
     "iopub.status.busy": "2024-06-17T18:05:23.353337Z",
     "iopub.status.idle": "2024-06-17T18:05:23.387445Z",
     "shell.execute_reply": "2024-06-17T18:05:23.386203Z"
    },
    "papermill": {
     "duration": 0.05104,
     "end_time": "2024-06-17T18:05:23.390122",
     "exception": false,
     "start_time": "2024-06-17T18:05:23.339082",
     "status": "completed"
    },
    "tags": []
   },
   "outputs": [],
   "source": [
    "encoder=OneHotEncoder()\n",
    "encoded_race_train=encoder.fit_transform(new_df_train[['race']])\n",
    "encoded_df_train = pd.DataFrame(encoded_race_train.toarray(), columns=encoder.categories_[0])\n",
    "encoded_race_test=encoder.fit_transform(new_df_test[['race']])\n",
    "encoded_df_test = pd.DataFrame(encoded_race_test.toarray(), columns=encoder.categories_[0])\n"
   ]
  },
  {
   "cell_type": "code",
   "execution_count": 21,
   "id": "752c1945",
   "metadata": {
    "execution": {
     "iopub.execute_input": "2024-06-17T18:05:23.417309Z",
     "iopub.status.busy": "2024-06-17T18:05:23.416893Z",
     "iopub.status.idle": "2024-06-17T18:05:23.445933Z",
     "shell.execute_reply": "2024-06-17T18:05:23.444974Z"
    },
    "papermill": {
     "duration": 0.045573,
     "end_time": "2024-06-17T18:05:23.448558",
     "exception": false,
     "start_time": "2024-06-17T18:05:23.402985",
     "status": "completed"
    },
    "tags": []
   },
   "outputs": [],
   "source": [
    "df_h_train=pd.concat([new_df_train,encoded_df_train],axis=1)\n",
    "df_h_test=pd.concat([new_df_test,encoded_df_test],axis=1)"
   ]
  },
  {
   "cell_type": "code",
   "execution_count": 22,
   "id": "ac6019b6",
   "metadata": {
    "execution": {
     "iopub.execute_input": "2024-06-17T18:05:23.475996Z",
     "iopub.status.busy": "2024-06-17T18:05:23.475568Z",
     "iopub.status.idle": "2024-06-17T18:05:23.537973Z",
     "shell.execute_reply": "2024-06-17T18:05:23.537047Z"
    },
    "papermill": {
     "duration": 0.079163,
     "end_time": "2024-06-17T18:05:23.540691",
     "exception": false,
     "start_time": "2024-06-17T18:05:23.461528",
     "status": "completed"
    },
    "tags": []
   },
   "outputs": [],
   "source": [
    "encoder=OneHotEncoder()\n",
    "encoded_rent_train=encoder.fit_transform(new_df_train[['rent_or_own']])\n",
    "encoded_df_train = pd.DataFrame(encoded_rent_train.toarray(), columns=encoder.categories_[0])\n",
    "encoded_rent_test=encoder.fit_transform(new_df_test[['rent_or_own']])\n",
    "encoded_df_test = pd.DataFrame(encoded_rent_test.toarray(), columns=encoder.categories_[0])\n",
    "final_df_train=pd.concat([df_h_train,encoded_df_train],axis=1)\n",
    "final_df_test=pd.concat([df_h_test,encoded_df_test],axis=1)\n",
    "final_df_train.drop(columns=['Female','Other or Multiple','Own'],inplace=True)\n",
    "final_df_test.drop(columns=['Female','Other or Multiple','Own'],inplace=True)\n",
    "\n"
   ]
  },
  {
   "cell_type": "code",
   "execution_count": 23,
   "id": "98231e5a",
   "metadata": {
    "execution": {
     "iopub.execute_input": "2024-06-17T18:05:23.568147Z",
     "iopub.status.busy": "2024-06-17T18:05:23.567698Z",
     "iopub.status.idle": "2024-06-17T18:05:23.579851Z",
     "shell.execute_reply": "2024-06-17T18:05:23.578972Z"
    },
    "papermill": {
     "duration": 0.028789,
     "end_time": "2024-06-17T18:05:23.582348",
     "exception": false,
     "start_time": "2024-06-17T18:05:23.553559",
     "status": "completed"
    },
    "tags": []
   },
   "outputs": [],
   "source": [
    "final_df_train.drop(columns=['rent_or_own','race'],inplace=True)\n",
    "final_df_test.drop(columns=['rent_or_own','race'],inplace=True)"
   ]
  },
  {
   "cell_type": "code",
   "execution_count": 24,
   "id": "7c0fefda",
   "metadata": {
    "execution": {
     "iopub.execute_input": "2024-06-17T18:05:23.610020Z",
     "iopub.status.busy": "2024-06-17T18:05:23.609495Z",
     "iopub.status.idle": "2024-06-17T18:05:23.634390Z",
     "shell.execute_reply": "2024-06-17T18:05:23.633155Z"
    },
    "papermill": {
     "duration": 0.04167,
     "end_time": "2024-06-17T18:05:23.637061",
     "exception": false,
     "start_time": "2024-06-17T18:05:23.595391",
     "status": "completed"
    },
    "tags": []
   },
   "outputs": [],
   "source": [
    "final_df_train.drop(columns=['sex'],inplace=True)\n",
    "final_df_test.drop(columns=['sex'],inplace=True)\n",
    "final_df_train['household_total']=final_df_train['household_adults']+final_df_train['household_children']\n",
    "final_df_test['household_total']=final_df_test['household_adults']+final_df_test['household_children']\n",
    "final_df_train.drop(columns=['household_adults','household_children'],inplace=True)\n",
    "final_df_test.drop(columns=['household_adults','household_children'],inplace=True)\n",
    "\n"
   ]
  },
  {
   "cell_type": "code",
   "execution_count": 25,
   "id": "12cd046b",
   "metadata": {
    "execution": {
     "iopub.execute_input": "2024-06-17T18:05:23.664512Z",
     "iopub.status.busy": "2024-06-17T18:05:23.663800Z",
     "iopub.status.idle": "2024-06-17T18:05:23.940267Z",
     "shell.execute_reply": "2024-06-17T18:05:23.939189Z"
    },
    "papermill": {
     "duration": 0.29324,
     "end_time": "2024-06-17T18:05:23.943161",
     "exception": false,
     "start_time": "2024-06-17T18:05:23.649921",
     "status": "completed"
    },
    "tags": []
   },
   "outputs": [],
   "source": [
    "from scipy.stats import chi2_contingency\n",
    "chi2=[]\n",
    "p=[]\n",
    "\n",
    "column=[column for column in final_df_train.columns]\n",
    "for col in column:\n",
    "        contingency_table = pd.crosstab(final_df_train[col], df_labels['xyz_vaccine']) \n",
    "        chi2_stat, p_val, _, _ = chi2_contingency(contingency_table) \n",
    "        chi2.append(chi2_stat)\n",
    "        p.append(p_val)\n",
    "         \n"
   ]
  },
  {
   "cell_type": "code",
   "execution_count": 26,
   "id": "ecb782f8",
   "metadata": {
    "execution": {
     "iopub.execute_input": "2024-06-17T18:05:23.972395Z",
     "iopub.status.busy": "2024-06-17T18:05:23.971597Z",
     "iopub.status.idle": "2024-06-17T18:05:23.991531Z",
     "shell.execute_reply": "2024-06-17T18:05:23.990472Z"
    },
    "papermill": {
     "duration": 0.036791,
     "end_time": "2024-06-17T18:05:23.994029",
     "exception": false,
     "start_time": "2024-06-17T18:05:23.957238",
     "status": "completed"
    },
    "tags": []
   },
   "outputs": [
    {
     "data": {
      "text/html": [
       "<div>\n",
       "<style scoped>\n",
       "    .dataframe tbody tr th:only-of-type {\n",
       "        vertical-align: middle;\n",
       "    }\n",
       "\n",
       "    .dataframe tbody tr th {\n",
       "        vertical-align: top;\n",
       "    }\n",
       "\n",
       "    .dataframe thead th {\n",
       "        text-align: right;\n",
       "    }\n",
       "</style>\n",
       "<table border=\"1\" class=\"dataframe\">\n",
       "  <thead>\n",
       "    <tr style=\"text-align: right;\">\n",
       "      <th></th>\n",
       "      <th>0</th>\n",
       "    </tr>\n",
       "  </thead>\n",
       "  <tbody>\n",
       "    <tr>\n",
       "      <th>xyz_concern</th>\n",
       "      <td>1.758225e-86</td>\n",
       "    </tr>\n",
       "    <tr>\n",
       "      <th>xyz_knowledge</th>\n",
       "      <td>6.877833e-87</td>\n",
       "    </tr>\n",
       "    <tr>\n",
       "      <th>behavioral_antiviral_meds</th>\n",
       "      <td>6.190882e-11</td>\n",
       "    </tr>\n",
       "    <tr>\n",
       "      <th>behavioral_avoidance</th>\n",
       "      <td>2.216113e-14</td>\n",
       "    </tr>\n",
       "    <tr>\n",
       "      <th>behavioral_face_mask</th>\n",
       "      <td>1.711202e-30</td>\n",
       "    </tr>\n",
       "    <tr>\n",
       "      <th>behavioral_wash_hands</th>\n",
       "      <td>4.679794e-34</td>\n",
       "    </tr>\n",
       "    <tr>\n",
       "      <th>behavioral_large_gatherings</th>\n",
       "      <td>3.276654e-03</td>\n",
       "    </tr>\n",
       "    <tr>\n",
       "      <th>behavioral_outside_home</th>\n",
       "      <td>3.275587e-04</td>\n",
       "    </tr>\n",
       "    <tr>\n",
       "      <th>behavioral_touch_face</th>\n",
       "      <td>6.321842e-31</td>\n",
       "    </tr>\n",
       "    <tr>\n",
       "      <th>doctor_recc_xyz</th>\n",
       "      <td>0.000000e+00</td>\n",
       "    </tr>\n",
       "    <tr>\n",
       "      <th>doctor_recc_seasonal</th>\n",
       "      <td>3.312617e-280</td>\n",
       "    </tr>\n",
       "    <tr>\n",
       "      <th>chronic_med_condition</th>\n",
       "      <td>1.542823e-53</td>\n",
       "    </tr>\n",
       "    <tr>\n",
       "      <th>child_under_6_months</th>\n",
       "      <td>1.522598e-27</td>\n",
       "    </tr>\n",
       "    <tr>\n",
       "      <th>health_worker</th>\n",
       "      <td>9.112289e-166</td>\n",
       "    </tr>\n",
       "    <tr>\n",
       "      <th>health_insurance</th>\n",
       "      <td>6.997923e-30</td>\n",
       "    </tr>\n",
       "    <tr>\n",
       "      <th>opinion_xyz_vacc_effective</th>\n",
       "      <td>0.000000e+00</td>\n",
       "    </tr>\n",
       "    <tr>\n",
       "      <th>opinion_xyz_risk</th>\n",
       "      <td>0.000000e+00</td>\n",
       "    </tr>\n",
       "    <tr>\n",
       "      <th>opinion_xyz_sick_from_vacc</th>\n",
       "      <td>6.675769e-54</td>\n",
       "    </tr>\n",
       "    <tr>\n",
       "      <th>opinion_seas_vacc_effective</th>\n",
       "      <td>1.781255e-218</td>\n",
       "    </tr>\n",
       "    <tr>\n",
       "      <th>opinion_seas_risk</th>\n",
       "      <td>0.000000e+00</td>\n",
       "    </tr>\n",
       "    <tr>\n",
       "      <th>opinion_seas_sick_from_vacc</th>\n",
       "      <td>3.740503e-09</td>\n",
       "    </tr>\n",
       "    <tr>\n",
       "      <th>age_group</th>\n",
       "      <td>2.971603e-14</td>\n",
       "    </tr>\n",
       "    <tr>\n",
       "      <th>education</th>\n",
       "      <td>9.084232e-24</td>\n",
       "    </tr>\n",
       "    <tr>\n",
       "      <th>income_poverty</th>\n",
       "      <td>2.047839e-14</td>\n",
       "    </tr>\n",
       "    <tr>\n",
       "      <th>marital_status</th>\n",
       "      <td>1.666627e-15</td>\n",
       "    </tr>\n",
       "    <tr>\n",
       "      <th>Male</th>\n",
       "      <td>7.709155e-04</td>\n",
       "    </tr>\n",
       "    <tr>\n",
       "      <th>Black</th>\n",
       "      <td>9.704733e-14</td>\n",
       "    </tr>\n",
       "    <tr>\n",
       "      <th>Hispanic</th>\n",
       "      <td>NaN</td>\n",
       "    </tr>\n",
       "    <tr>\n",
       "      <th>White</th>\n",
       "      <td>4.928736e-07</td>\n",
       "    </tr>\n",
       "    <tr>\n",
       "      <th>Rent</th>\n",
       "      <td>4.550716e-07</td>\n",
       "    </tr>\n",
       "    <tr>\n",
       "      <th>household_total</th>\n",
       "      <td>2.592288e-03</td>\n",
       "    </tr>\n",
       "  </tbody>\n",
       "</table>\n",
       "</div>"
      ],
      "text/plain": [
       "                                         0\n",
       "xyz_concern                   1.758225e-86\n",
       "xyz_knowledge                 6.877833e-87\n",
       "behavioral_antiviral_meds     6.190882e-11\n",
       "behavioral_avoidance          2.216113e-14\n",
       "behavioral_face_mask          1.711202e-30\n",
       "behavioral_wash_hands         4.679794e-34\n",
       "behavioral_large_gatherings   3.276654e-03\n",
       "behavioral_outside_home       3.275587e-04\n",
       "behavioral_touch_face         6.321842e-31\n",
       "doctor_recc_xyz               0.000000e+00\n",
       "doctor_recc_seasonal         3.312617e-280\n",
       "chronic_med_condition         1.542823e-53\n",
       "child_under_6_months          1.522598e-27\n",
       "health_worker                9.112289e-166\n",
       "health_insurance              6.997923e-30\n",
       "opinion_xyz_vacc_effective    0.000000e+00\n",
       "opinion_xyz_risk              0.000000e+00\n",
       "opinion_xyz_sick_from_vacc    6.675769e-54\n",
       "opinion_seas_vacc_effective  1.781255e-218\n",
       "opinion_seas_risk             0.000000e+00\n",
       "opinion_seas_sick_from_vacc   3.740503e-09\n",
       "age_group                     2.971603e-14\n",
       "education                     9.084232e-24\n",
       "income_poverty                2.047839e-14\n",
       "marital_status                1.666627e-15\n",
       "Male                          7.709155e-04\n",
       "Black                         9.704733e-14\n",
       "Hispanic                               NaN\n",
       "White                         4.928736e-07\n",
       "Rent                          4.550716e-07\n",
       "household_total               2.592288e-03"
      ]
     },
     "execution_count": 26,
     "metadata": {},
     "output_type": "execute_result"
    }
   ],
   "source": [
    "p=pd.DataFrame(p,index=column)\n",
    "p[p<0.5]"
   ]
  },
  {
   "cell_type": "code",
   "execution_count": 27,
   "id": "feccb0c9",
   "metadata": {
    "execution": {
     "iopub.execute_input": "2024-06-17T18:05:24.022236Z",
     "iopub.status.busy": "2024-06-17T18:05:24.021845Z",
     "iopub.status.idle": "2024-06-17T18:05:24.027586Z",
     "shell.execute_reply": "2024-06-17T18:05:24.026378Z"
    },
    "papermill": {
     "duration": 0.022642,
     "end_time": "2024-06-17T18:05:24.029987",
     "exception": false,
     "start_time": "2024-06-17T18:05:24.007345",
     "status": "completed"
    },
    "tags": []
   },
   "outputs": [],
   "source": [
    "X=final_df_train\n",
    "y1=df_labels['xyz_vaccine']\n",
    "y2=df_labels['seasonal_vaccine']"
   ]
  },
  {
   "cell_type": "code",
   "execution_count": 28,
   "id": "2a32828a",
   "metadata": {
    "execution": {
     "iopub.execute_input": "2024-06-17T18:05:24.058017Z",
     "iopub.status.busy": "2024-06-17T18:05:24.057499Z",
     "iopub.status.idle": "2024-06-17T18:05:24.497339Z",
     "shell.execute_reply": "2024-06-17T18:05:24.496278Z"
    },
    "papermill": {
     "duration": 0.456732,
     "end_time": "2024-06-17T18:05:24.499872",
     "exception": false,
     "start_time": "2024-06-17T18:05:24.043140",
     "status": "completed"
    },
    "tags": []
   },
   "outputs": [],
   "source": [
    "from sklearn.model_selection import train_test_split\n",
    "X_train,X_test,y1_train,y1_test=train_test_split(X,y1,test_size=0.2,random_state=32)\n",
    "X_train,X_test,y2_train,y2_test=train_test_split(X,y2,test_size=0.2,random_state=32)\n",
    "\n",
    "from sklearn.linear_model import LogisticRegression\n",
    "from sklearn.naive_bayes import MultinomialNB,GaussianNB,BernoulliNB\n",
    "from sklearn.ensemble import RandomForestClassifier,AdaBoostClassifier,GradientBoostingClassifier,ExtraTreesClassifier\n",
    "from sklearn.svm import SVC\n",
    "from sklearn.metrics import roc_auc_score"
   ]
  },
  {
   "cell_type": "code",
   "execution_count": 29,
   "id": "5046f66e",
   "metadata": {
    "execution": {
     "iopub.execute_input": "2024-06-17T18:05:24.529080Z",
     "iopub.status.busy": "2024-06-17T18:05:24.527986Z",
     "iopub.status.idle": "2024-06-17T18:05:30.166672Z",
     "shell.execute_reply": "2024-06-17T18:05:30.165324Z"
    },
    "papermill": {
     "duration": 5.656098,
     "end_time": "2024-06-17T18:05:30.169257",
     "exception": false,
     "start_time": "2024-06-17T18:05:24.513159",
     "status": "completed"
    },
    "tags": []
   },
   "outputs": [
    {
     "name": "stdout",
     "output_type": "stream",
     "text": [
      "0.8393471472131104\n",
      "0.8554599682897062\n",
      "0.8474035577514083\n"
     ]
    }
   ],
   "source": [
    "gra=GradientBoostingClassifier()\n",
    "gra.fit(X_train,y1_train)\n",
    "y1_pred=gra.predict_proba(X_test)\n",
    "y1_chance=y1_pred[:,1]\n",
    "score1=roc_auc_score(y1_test,y1_chance)\n",
    "print(score1)\n",
    "\n",
    "gra=GradientBoostingClassifier()\n",
    "gra.fit(X_train,y2_train)\n",
    "y2_pred=gra.predict_proba(X_test)\n",
    "y2_chance=y2_pred[:,1]\n",
    "score2=roc_auc_score(y2_test,y2_chance)\n",
    "print(score2)\n",
    "print((score1+score2)/2)\n",
    "\n"
   ]
  },
  {
   "cell_type": "code",
   "execution_count": 30,
   "id": "9bf94018",
   "metadata": {
    "execution": {
     "iopub.execute_input": "2024-06-17T18:05:30.198166Z",
     "iopub.status.busy": "2024-06-17T18:05:30.197717Z",
     "iopub.status.idle": "2024-06-17T18:05:41.975122Z",
     "shell.execute_reply": "2024-06-17T18:05:41.973758Z"
    },
    "papermill": {
     "duration": 11.795131,
     "end_time": "2024-06-17T18:05:41.978372",
     "exception": false,
     "start_time": "2024-06-17T18:05:30.183241",
     "status": "completed"
    },
    "tags": []
   },
   "outputs": [
    {
     "name": "stdout",
     "output_type": "stream",
     "text": [
      "0.8364883186820884\n",
      "0.8504457921882694\n",
      "0.8434670554351789\n"
     ]
    }
   ],
   "source": [
    "ada=AdaBoostClassifier()\n",
    "ada.fit(X_train,y1_train)\n",
    "y1_pred=ada.predict_proba(X_test)\n",
    "y1_chance=y1_pred[:,1]\n",
    "score1=roc_auc_score(y1_test,y1_chance)\n",
    "print(score1)\n",
    "\n",
    "ada=AdaBoostClassifier()\n",
    "ada.fit(X_train,y2_train)\n",
    "y2_pred=ada.predict_proba(X_test)\n",
    "y2_chance=y2_pred[:,1]\n",
    "score2=roc_auc_score(y2_test,y2_chance)\n",
    "print(score2)\n",
    "print((score1+score2)/2)"
   ]
  },
  {
   "cell_type": "code",
   "execution_count": 31,
   "id": "d8cd10d1",
   "metadata": {
    "execution": {
     "iopub.execute_input": "2024-06-17T18:05:42.007802Z",
     "iopub.status.busy": "2024-06-17T18:05:42.007357Z",
     "iopub.status.idle": "2024-06-17T18:05:49.023814Z",
     "shell.execute_reply": "2024-06-17T18:05:49.022699Z"
    },
    "papermill": {
     "duration": 7.034059,
     "end_time": "2024-06-17T18:05:49.026276",
     "exception": false,
     "start_time": "2024-06-17T18:05:41.992217",
     "status": "completed"
    },
    "tags": []
   },
   "outputs": [
    {
     "name": "stdout",
     "output_type": "stream",
     "text": [
      "0.704282179993512\n",
      "0.8442332537758801\n",
      "0.774257716884696\n"
     ]
    }
   ],
   "source": [
    "random=RandomForestClassifier()\n",
    "random.fit(X_train,y1_train)\n",
    "y1_pred=ada.predict_proba(X_test)\n",
    "y1_chance=y1_pred[:,1]\n",
    "score1=roc_auc_score(y1_test,y1_chance)\n",
    "print(score1)\n",
    "\n",
    "random=RandomForestClassifier()\n",
    "random.fit(X_train,y2_train)\n",
    "y2_pred=random.predict_proba(X_test)\n",
    "y2_chance=y2_pred[:,1]\n",
    "score2=roc_auc_score(y2_test,y2_chance)\n",
    "print(score2)\n",
    "print((score1+score2)/2)"
   ]
  },
  {
   "cell_type": "code",
   "execution_count": 32,
   "id": "477e626f",
   "metadata": {
    "execution": {
     "iopub.execute_input": "2024-06-17T18:05:49.055544Z",
     "iopub.status.busy": "2024-06-17T18:05:49.054863Z",
     "iopub.status.idle": "2024-06-17T18:05:50.137859Z",
     "shell.execute_reply": "2024-06-17T18:05:50.136703Z"
    },
    "papermill": {
     "duration": 1.101955,
     "end_time": "2024-06-17T18:05:50.141923",
     "exception": false,
     "start_time": "2024-06-17T18:05:49.039968",
     "status": "completed"
    },
    "tags": []
   },
   "outputs": [
    {
     "name": "stdout",
     "output_type": "stream",
     "text": [
      "0.8336009219692916\n",
      "0.8475952182139239\n",
      "0.8405980700916078\n"
     ]
    }
   ],
   "source": [
    "lg=LogisticRegression()\n",
    "lg.fit(X_train,y1_train)\n",
    "y1_pred=lg.predict_proba(X_test)\n",
    "y1_chance=y1_pred[:,1]\n",
    "score1=roc_auc_score(y1_test,y1_chance)\n",
    "print(score1)\n",
    "\n",
    "lg=LogisticRegression()\n",
    "lg.fit(X_train,y2_train)\n",
    "y2_pred=lg.predict_proba(X_test)\n",
    "y2_chance=y2_pred[:,1]\n",
    "score2=roc_auc_score(y2_test,y2_chance)\n",
    "print(score2)\n",
    "print((score1+score2)/2)"
   ]
  },
  {
   "cell_type": "code",
   "execution_count": 33,
   "id": "30911764",
   "metadata": {
    "execution": {
     "iopub.execute_input": "2024-06-17T18:05:50.203508Z",
     "iopub.status.busy": "2024-06-17T18:05:50.202806Z",
     "iopub.status.idle": "2024-06-17T18:05:58.081290Z",
     "shell.execute_reply": "2024-06-17T18:05:58.080024Z"
    },
    "papermill": {
     "duration": 7.912246,
     "end_time": "2024-06-17T18:05:58.083798",
     "exception": false,
     "start_time": "2024-06-17T18:05:50.171552",
     "status": "completed"
    },
    "tags": []
   },
   "outputs": [
    {
     "name": "stdout",
     "output_type": "stream",
     "text": [
      "0.8200509275453773\n",
      "0.8421652248286867\n",
      "0.831108076187032\n"
     ]
    }
   ],
   "source": [
    "extra=ExtraTreesClassifier()\n",
    "extra.fit(X_train,y1_train)\n",
    "y1_pred=extra.predict_proba(X_test)\n",
    "y1_chance=y1_pred[:,1]\n",
    "score1=roc_auc_score(y1_test,y1_chance)\n",
    "print(score1)\n",
    "\n",
    "extra=ExtraTreesClassifier()\n",
    "extra.fit(X_train,y2_train)\n",
    "y2_pred=extra.predict_proba(X_test)\n",
    "y2_chance=y2_pred[:,1]\n",
    "score2=roc_auc_score(y2_test,y2_chance)\n",
    "print(score2)\n",
    "print((score1+score2)/2)"
   ]
  },
  {
   "cell_type": "code",
   "execution_count": 34,
   "id": "695b6e8d",
   "metadata": {
    "execution": {
     "iopub.execute_input": "2024-06-17T18:05:58.113871Z",
     "iopub.status.busy": "2024-06-17T18:05:58.113433Z",
     "iopub.status.idle": "2024-06-17T18:06:57.534614Z",
     "shell.execute_reply": "2024-06-17T18:06:57.533519Z"
    },
    "papermill": {
     "duration": 59.439062,
     "end_time": "2024-06-17T18:06:57.537027",
     "exception": false,
     "start_time": "2024-06-17T18:05:58.097965",
     "status": "completed"
    },
    "tags": []
   },
   "outputs": [
    {
     "name": "stderr",
     "output_type": "stream",
     "text": [
      "2024-06-17 18:06:00.307764: E external/local_xla/xla/stream_executor/cuda/cuda_dnn.cc:9261] Unable to register cuDNN factory: Attempting to register factory for plugin cuDNN when one has already been registered\n",
      "2024-06-17 18:06:00.307963: E external/local_xla/xla/stream_executor/cuda/cuda_fft.cc:607] Unable to register cuFFT factory: Attempting to register factory for plugin cuFFT when one has already been registered\n",
      "2024-06-17 18:06:00.468884: E external/local_xla/xla/stream_executor/cuda/cuda_blas.cc:1515] Unable to register cuBLAS factory: Attempting to register factory for plugin cuBLAS when one has already been registered\n"
     ]
    },
    {
     "name": "stdout",
     "output_type": "stream",
     "text": [
      "Epoch 11/100\n",
      "\u001b[1m668/668\u001b[0m \u001b[32m━━━━━━━━━━━━━━━━━━━━\u001b[0m\u001b[37m\u001b[0m \u001b[1m3s\u001b[0m 2ms/step - accuracy: 0.7894 - loss: 0.5200 - val_accuracy: 0.7905 - val_loss: 0.4369\n",
      "Epoch 12/100\n",
      "\u001b[1m668/668\u001b[0m \u001b[32m━━━━━━━━━━━━━━━━━━━━\u001b[0m\u001b[37m\u001b[0m \u001b[1m1s\u001b[0m 2ms/step - accuracy: 0.7903 - loss: 0.4273 - val_accuracy: 0.8227 - val_loss: 0.4187\n",
      "Epoch 13/100\n",
      "\u001b[1m668/668\u001b[0m \u001b[32m━━━━━━━━━━━━━━━━━━━━\u001b[0m\u001b[37m\u001b[0m \u001b[1m1s\u001b[0m 2ms/step - accuracy: 0.8250 - loss: 0.4138 - val_accuracy: 0.8267 - val_loss: 0.4089\n",
      "Epoch 14/100\n",
      "\u001b[1m668/668\u001b[0m \u001b[32m━━━━━━━━━━━━━━━━━━━━\u001b[0m\u001b[37m\u001b[0m \u001b[1m1s\u001b[0m 2ms/step - accuracy: 0.8261 - loss: 0.4049 - val_accuracy: 0.8285 - val_loss: 0.4031\n",
      "Epoch 15/100\n",
      "\u001b[1m668/668\u001b[0m \u001b[32m━━━━━━━━━━━━━━━━━━━━\u001b[0m\u001b[37m\u001b[0m \u001b[1m1s\u001b[0m 2ms/step - accuracy: 0.8249 - loss: 0.4095 - val_accuracy: 0.8313 - val_loss: 0.3997\n",
      "Epoch 16/100\n",
      "\u001b[1m668/668\u001b[0m \u001b[32m━━━━━━━━━━━━━━━━━━━━\u001b[0m\u001b[37m\u001b[0m \u001b[1m1s\u001b[0m 2ms/step - accuracy: 0.8318 - loss: 0.4028 - val_accuracy: 0.8283 - val_loss: 0.3971\n",
      "Epoch 17/100\n",
      "\u001b[1m668/668\u001b[0m \u001b[32m━━━━━━━━━━━━━━━━━━━━\u001b[0m\u001b[37m\u001b[0m \u001b[1m1s\u001b[0m 2ms/step - accuracy: 0.8283 - loss: 0.3988 - val_accuracy: 0.8334 - val_loss: 0.3955\n",
      "Epoch 18/100\n",
      "\u001b[1m668/668\u001b[0m \u001b[32m━━━━━━━━━━━━━━━━━━━━\u001b[0m\u001b[37m\u001b[0m \u001b[1m1s\u001b[0m 2ms/step - accuracy: 0.8310 - loss: 0.3997 - val_accuracy: 0.8323 - val_loss: 0.3959\n",
      "Epoch 19/100\n",
      "\u001b[1m668/668\u001b[0m \u001b[32m━━━━━━━━━━━━━━━━━━━━\u001b[0m\u001b[37m\u001b[0m \u001b[1m1s\u001b[0m 2ms/step - accuracy: 0.8308 - loss: 0.3992 - val_accuracy: 0.8349 - val_loss: 0.3921\n",
      "Epoch 20/100\n",
      "\u001b[1m668/668\u001b[0m \u001b[32m━━━━━━━━━━━━━━━━━━━━\u001b[0m\u001b[37m\u001b[0m \u001b[1m1s\u001b[0m 2ms/step - accuracy: 0.8312 - loss: 0.3954 - val_accuracy: 0.8351 - val_loss: 0.3945\n",
      "Epoch 21/100\n",
      "\u001b[1m668/668\u001b[0m \u001b[32m━━━━━━━━━━━━━━━━━━━━\u001b[0m\u001b[37m\u001b[0m \u001b[1m1s\u001b[0m 2ms/step - accuracy: 0.8288 - loss: 0.3934 - val_accuracy: 0.8315 - val_loss: 0.3914\n",
      "Epoch 22/100\n",
      "\u001b[1m668/668\u001b[0m \u001b[32m━━━━━━━━━━━━━━━━━━━━\u001b[0m\u001b[37m\u001b[0m \u001b[1m1s\u001b[0m 2ms/step - accuracy: 0.8340 - loss: 0.3884 - val_accuracy: 0.8287 - val_loss: 0.3953\n",
      "Epoch 23/100\n",
      "\u001b[1m668/668\u001b[0m \u001b[32m━━━━━━━━━━━━━━━━━━━━\u001b[0m\u001b[37m\u001b[0m \u001b[1m1s\u001b[0m 2ms/step - accuracy: 0.8295 - loss: 0.3986 - val_accuracy: 0.8370 - val_loss: 0.3882\n",
      "Epoch 24/100\n",
      "\u001b[1m668/668\u001b[0m \u001b[32m━━━━━━━━━━━━━━━━━━━━\u001b[0m\u001b[37m\u001b[0m \u001b[1m1s\u001b[0m 2ms/step - accuracy: 0.8368 - loss: 0.3845 - val_accuracy: 0.8370 - val_loss: 0.3865\n",
      "Epoch 25/100\n",
      "\u001b[1m668/668\u001b[0m \u001b[32m━━━━━━━━━━━━━━━━━━━━\u001b[0m\u001b[37m\u001b[0m \u001b[1m1s\u001b[0m 2ms/step - accuracy: 0.8345 - loss: 0.3887 - val_accuracy: 0.8341 - val_loss: 0.3890\n",
      "Epoch 26/100\n",
      "\u001b[1m668/668\u001b[0m \u001b[32m━━━━━━━━━━━━━━━━━━━━\u001b[0m\u001b[37m\u001b[0m \u001b[1m1s\u001b[0m 2ms/step - accuracy: 0.8370 - loss: 0.3898 - val_accuracy: 0.8347 - val_loss: 0.3878\n",
      "Epoch 27/100\n",
      "\u001b[1m668/668\u001b[0m \u001b[32m━━━━━━━━━━━━━━━━━━━━\u001b[0m\u001b[37m\u001b[0m \u001b[1m1s\u001b[0m 2ms/step - accuracy: 0.8358 - loss: 0.3863 - val_accuracy: 0.8386 - val_loss: 0.3843\n",
      "Epoch 28/100\n",
      "\u001b[1m668/668\u001b[0m \u001b[32m━━━━━━━━━━━━━━━━━━━━\u001b[0m\u001b[37m\u001b[0m \u001b[1m1s\u001b[0m 2ms/step - accuracy: 0.8400 - loss: 0.3779 - val_accuracy: 0.8386 - val_loss: 0.3848\n",
      "Epoch 29/100\n",
      "\u001b[1m668/668\u001b[0m \u001b[32m━━━━━━━━━━━━━━━━━━━━\u001b[0m\u001b[37m\u001b[0m \u001b[1m1s\u001b[0m 2ms/step - accuracy: 0.8341 - loss: 0.3889 - val_accuracy: 0.8356 - val_loss: 0.3851\n",
      "Epoch 30/100\n",
      "\u001b[1m668/668\u001b[0m \u001b[32m━━━━━━━━━━━━━━━━━━━━\u001b[0m\u001b[37m\u001b[0m \u001b[1m1s\u001b[0m 2ms/step - accuracy: 0.8387 - loss: 0.3817 - val_accuracy: 0.8381 - val_loss: 0.3839\n",
      "Epoch 31/100\n",
      "\u001b[1m668/668\u001b[0m \u001b[32m━━━━━━━━━━━━━━━━━━━━\u001b[0m\u001b[37m\u001b[0m \u001b[1m1s\u001b[0m 2ms/step - accuracy: 0.8371 - loss: 0.3800 - val_accuracy: 0.8385 - val_loss: 0.3826\n",
      "Epoch 32/100\n",
      "\u001b[1m668/668\u001b[0m \u001b[32m━━━━━━━━━━━━━━━━━━━━\u001b[0m\u001b[37m\u001b[0m \u001b[1m1s\u001b[0m 2ms/step - accuracy: 0.8397 - loss: 0.3779 - val_accuracy: 0.8300 - val_loss: 0.3962\n",
      "Epoch 33/100\n",
      "\u001b[1m668/668\u001b[0m \u001b[32m━━━━━━━━━━━━━━━━━━━━\u001b[0m\u001b[37m\u001b[0m \u001b[1m1s\u001b[0m 2ms/step - accuracy: 0.8347 - loss: 0.3855 - val_accuracy: 0.8385 - val_loss: 0.3848\n",
      "Epoch 34/100\n",
      "\u001b[1m668/668\u001b[0m \u001b[32m━━━━━━━━━━━━━━━━━━━━\u001b[0m\u001b[37m\u001b[0m \u001b[1m2s\u001b[0m 2ms/step - accuracy: 0.8386 - loss: 0.3787 - val_accuracy: 0.8364 - val_loss: 0.3854\n",
      "Epoch 35/100\n",
      "\u001b[1m668/668\u001b[0m \u001b[32m━━━━━━━━━━━━━━━━━━━━\u001b[0m\u001b[37m\u001b[0m \u001b[1m1s\u001b[0m 2ms/step - accuracy: 0.8406 - loss: 0.3769 - val_accuracy: 0.8368 - val_loss: 0.3870\n",
      "Epoch 36/100\n",
      "\u001b[1m668/668\u001b[0m \u001b[32m━━━━━━━━━━━━━━━━━━━━\u001b[0m\u001b[37m\u001b[0m \u001b[1m1s\u001b[0m 2ms/step - accuracy: 0.8391 - loss: 0.3784 - val_accuracy: 0.8399 - val_loss: 0.3832\n",
      "Epoch 37/100\n",
      "\u001b[1m668/668\u001b[0m \u001b[32m━━━━━━━━━━━━━━━━━━━━\u001b[0m\u001b[37m\u001b[0m \u001b[1m1s\u001b[0m 2ms/step - accuracy: 0.8355 - loss: 0.3825 - val_accuracy: 0.8398 - val_loss: 0.3822\n",
      "Epoch 38/100\n",
      "\u001b[1m668/668\u001b[0m \u001b[32m━━━━━━━━━━━━━━━━━━━━\u001b[0m\u001b[37m\u001b[0m \u001b[1m1s\u001b[0m 2ms/step - accuracy: 0.8383 - loss: 0.3781 - val_accuracy: 0.8394 - val_loss: 0.3821\n",
      "Epoch 39/100\n",
      "\u001b[1m668/668\u001b[0m \u001b[32m━━━━━━━━━━━━━━━━━━━━\u001b[0m\u001b[37m\u001b[0m \u001b[1m1s\u001b[0m 2ms/step - accuracy: 0.8373 - loss: 0.3788 - val_accuracy: 0.8392 - val_loss: 0.3816\n",
      "Epoch 40/100\n",
      "\u001b[1m668/668\u001b[0m \u001b[32m━━━━━━━━━━━━━━━━━━━━\u001b[0m\u001b[37m\u001b[0m \u001b[1m1s\u001b[0m 2ms/step - accuracy: 0.8418 - loss: 0.3719 - val_accuracy: 0.8356 - val_loss: 0.3836\n",
      "Epoch 41/100\n",
      "\u001b[1m668/668\u001b[0m \u001b[32m━━━━━━━━━━━━━━━━━━━━\u001b[0m\u001b[37m\u001b[0m \u001b[1m1s\u001b[0m 2ms/step - accuracy: 0.8381 - loss: 0.3780 - val_accuracy: 0.8396 - val_loss: 0.3811\n",
      "Epoch 42/100\n",
      "\u001b[1m668/668\u001b[0m \u001b[32m━━━━━━━━━━━━━━━━━━━━\u001b[0m\u001b[37m\u001b[0m \u001b[1m1s\u001b[0m 2ms/step - accuracy: 0.8354 - loss: 0.3841 - val_accuracy: 0.8381 - val_loss: 0.3826\n",
      "Epoch 43/100\n",
      "\u001b[1m668/668\u001b[0m \u001b[32m━━━━━━━━━━━━━━━━━━━━\u001b[0m\u001b[37m\u001b[0m \u001b[1m1s\u001b[0m 2ms/step - accuracy: 0.8357 - loss: 0.3811 - val_accuracy: 0.8349 - val_loss: 0.3875\n",
      "Epoch 44/100\n",
      "\u001b[1m668/668\u001b[0m \u001b[32m━━━━━━━━━━━━━━━━━━━━\u001b[0m\u001b[37m\u001b[0m \u001b[1m1s\u001b[0m 2ms/step - accuracy: 0.8436 - loss: 0.3723 - val_accuracy: 0.8355 - val_loss: 0.3890\n",
      "Epoch 45/100\n",
      "\u001b[1m668/668\u001b[0m \u001b[32m━━━━━━━━━━━━━━━━━━━━\u001b[0m\u001b[37m\u001b[0m \u001b[1m1s\u001b[0m 2ms/step - accuracy: 0.8377 - loss: 0.3819 - val_accuracy: 0.8388 - val_loss: 0.3812\n",
      "Epoch 46/100\n",
      "\u001b[1m668/668\u001b[0m \u001b[32m━━━━━━━━━━━━━━━━━━━━\u001b[0m\u001b[37m\u001b[0m \u001b[1m1s\u001b[0m 2ms/step - accuracy: 0.8416 - loss: 0.3781 - val_accuracy: 0.8353 - val_loss: 0.3848\n"
     ]
    },
    {
     "data": {
      "text/plain": [
       "<keras.src.callbacks.history.History at 0x7933cba41e10>"
      ]
     },
     "execution_count": 34,
     "metadata": {},
     "output_type": "execute_result"
    }
   ],
   "source": [
    "import keras\n",
    "from keras.layers import Dense\n",
    "from keras.models import Sequential\n",
    "m=Sequential()\n",
    "m.add(Dense(units=16,kernel_initializer='he_uniform',activation='relu'))\n",
    "m.add(Dense(units=8,kernel_initializer='he_uniform',activation='relu'))\n",
    "m.add(Dense(units=1,kernel_initializer='glorot_uniform',activation='sigmoid'))\n",
    "from keras.callbacks import EarlyStopping\n",
    "early_stopping=EarlyStopping(monitor='val_accuracy',patience=10,restore_best_weights=True)\n",
    "m.compile(optimizer='adam',loss='binary_crossentropy',metrics=['accuracy'])\n",
    "m.fit(X_train,y1_train,epochs=100,validation_data=(X_test,y1_test),initial_epoch=10,callbacks=[early_stopping])"
   ]
  },
  {
   "cell_type": "code",
   "execution_count": 35,
   "id": "754b576d",
   "metadata": {
    "execution": {
     "iopub.execute_input": "2024-06-17T18:06:57.777627Z",
     "iopub.status.busy": "2024-06-17T18:06:57.776216Z",
     "iopub.status.idle": "2024-06-17T18:07:00.763571Z",
     "shell.execute_reply": "2024-06-17T18:07:00.762057Z"
    },
    "papermill": {
     "duration": 3.079922,
     "end_time": "2024-06-17T18:07:00.766127",
     "exception": false,
     "start_time": "2024-06-17T18:06:57.686205",
     "status": "completed"
    },
    "tags": []
   },
   "outputs": [
    {
     "name": "stdout",
     "output_type": "stream",
     "text": [
      "\u001b[1m668/668\u001b[0m \u001b[32m━━━━━━━━━━━━━━━━━━━━\u001b[0m\u001b[37m\u001b[0m \u001b[1m1s\u001b[0m 1ms/step - accuracy: 0.8356 - loss: 0.3852\n",
      "\u001b[1m167/167\u001b[0m \u001b[32m━━━━━━━━━━━━━━━━━━━━\u001b[0m\u001b[37m\u001b[0m \u001b[1m0s\u001b[0m 1ms/step\n",
      "0.8321986474764667\n",
      "\u001b[1m668/668\u001b[0m \u001b[32m━━━━━━━━━━━━━━━━━━━━\u001b[0m\u001b[37m\u001b[0m \u001b[1m1s\u001b[0m 1ms/step - accuracy: 0.7058 - loss: 0.5806\n",
      "\u001b[1m167/167\u001b[0m \u001b[32m━━━━━━━━━━━━━━━━━━━━\u001b[0m\u001b[37m\u001b[0m \u001b[1m0s\u001b[0m 1ms/step\n",
      "0.8347929196120392\n",
      "0.8334957835442529\n"
     ]
    }
   ],
   "source": [
    "m.fit(X_train,y1_train)\n",
    "y1_pred=m.predict(X_test)\n",
    "print(roc_auc_score(y1_test,y1_pred))\n",
    "\n",
    "m.fit(X_train,y2_train)\n",
    "y2_pred=m.predict(X_test)\n",
    "print(roc_auc_score(y2_test,y2_pred))\n",
    "\n",
    "print(((roc_auc_score(y1_test,y1_pred))+(roc_auc_score(y2_test,y2_pred)))/2)\n",
    "\n",
    "\n",
    "\n"
   ]
  },
  {
   "cell_type": "code",
   "execution_count": 36,
   "id": "8c5fa4e5",
   "metadata": {
    "execution": {
     "iopub.execute_input": "2024-06-17T18:07:00.953699Z",
     "iopub.status.busy": "2024-06-17T18:07:00.953314Z",
     "iopub.status.idle": "2024-06-17T18:07:07.025194Z",
     "shell.execute_reply": "2024-06-17T18:07:07.024009Z"
    },
    "papermill": {
     "duration": 6.168249,
     "end_time": "2024-06-17T18:07:07.027907",
     "exception": false,
     "start_time": "2024-06-17T18:07:00.859658",
     "status": "completed"
    },
    "tags": []
   },
   "outputs": [],
   "source": [
    "test=pd.read_csv(\"/kaggle/input/hackathon/test_set_features.csv\")\n",
    "check=pd.DataFrame()\n",
    "check['respondent_id']=test['respondent_id']\n",
    "gra=GradientBoostingClassifier()\n",
    "gra.fit(X_train,y1_train)\n",
    "check['h1n1_vaccine']=gra.predict_proba(final_df_test)[:,1]\n",
    "\n",
    "gra=GradientBoostingClassifier()\n",
    "gra.fit(X_train,y2_train)\n",
    "check['seasonal_vaccine']=gra.predict_proba(final_df_test)[:,1]\n",
    "\n",
    "\n"
   ]
  },
  {
   "cell_type": "code",
   "execution_count": 37,
   "id": "653fb0dc",
   "metadata": {
    "execution": {
     "iopub.execute_input": "2024-06-17T18:07:07.218642Z",
     "iopub.status.busy": "2024-06-17T18:07:07.218267Z",
     "iopub.status.idle": "2024-06-17T18:07:07.232397Z",
     "shell.execute_reply": "2024-06-17T18:07:07.231146Z"
    },
    "papermill": {
     "duration": 0.114302,
     "end_time": "2024-06-17T18:07:07.234906",
     "exception": false,
     "start_time": "2024-06-17T18:07:07.120604",
     "status": "completed"
    },
    "tags": []
   },
   "outputs": [
    {
     "data": {
      "text/html": [
       "<div>\n",
       "<style scoped>\n",
       "    .dataframe tbody tr th:only-of-type {\n",
       "        vertical-align: middle;\n",
       "    }\n",
       "\n",
       "    .dataframe tbody tr th {\n",
       "        vertical-align: top;\n",
       "    }\n",
       "\n",
       "    .dataframe thead th {\n",
       "        text-align: right;\n",
       "    }\n",
       "</style>\n",
       "<table border=\"1\" class=\"dataframe\">\n",
       "  <thead>\n",
       "    <tr style=\"text-align: right;\">\n",
       "      <th></th>\n",
       "      <th>respondent_id</th>\n",
       "      <th>h1n1_vaccine</th>\n",
       "      <th>seasonal_vaccine</th>\n",
       "    </tr>\n",
       "  </thead>\n",
       "  <tbody>\n",
       "    <tr>\n",
       "      <th>0</th>\n",
       "      <td>26707</td>\n",
       "      <td>0.097909</td>\n",
       "      <td>0.226481</td>\n",
       "    </tr>\n",
       "    <tr>\n",
       "      <th>1</th>\n",
       "      <td>26708</td>\n",
       "      <td>0.039345</td>\n",
       "      <td>0.038937</td>\n",
       "    </tr>\n",
       "    <tr>\n",
       "      <th>2</th>\n",
       "      <td>26709</td>\n",
       "      <td>0.305264</td>\n",
       "      <td>0.813061</td>\n",
       "    </tr>\n",
       "    <tr>\n",
       "      <th>3</th>\n",
       "      <td>26710</td>\n",
       "      <td>0.570966</td>\n",
       "      <td>0.845609</td>\n",
       "    </tr>\n",
       "    <tr>\n",
       "      <th>4</th>\n",
       "      <td>26711</td>\n",
       "      <td>0.220298</td>\n",
       "      <td>0.446692</td>\n",
       "    </tr>\n",
       "    <tr>\n",
       "      <th>...</th>\n",
       "      <td>...</td>\n",
       "      <td>...</td>\n",
       "      <td>...</td>\n",
       "    </tr>\n",
       "    <tr>\n",
       "      <th>26703</th>\n",
       "      <td>53410</td>\n",
       "      <td>0.341949</td>\n",
       "      <td>0.496043</td>\n",
       "    </tr>\n",
       "    <tr>\n",
       "      <th>26704</th>\n",
       "      <td>53411</td>\n",
       "      <td>0.093347</td>\n",
       "      <td>0.384131</td>\n",
       "    </tr>\n",
       "    <tr>\n",
       "      <th>26705</th>\n",
       "      <td>53412</td>\n",
       "      <td>0.124747</td>\n",
       "      <td>0.212598</td>\n",
       "    </tr>\n",
       "    <tr>\n",
       "      <th>26706</th>\n",
       "      <td>53413</td>\n",
       "      <td>0.056787</td>\n",
       "      <td>0.348626</td>\n",
       "    </tr>\n",
       "    <tr>\n",
       "      <th>26707</th>\n",
       "      <td>53414</td>\n",
       "      <td>0.494462</td>\n",
       "      <td>0.649477</td>\n",
       "    </tr>\n",
       "  </tbody>\n",
       "</table>\n",
       "<p>26708 rows × 3 columns</p>\n",
       "</div>"
      ],
      "text/plain": [
       "       respondent_id  h1n1_vaccine  seasonal_vaccine\n",
       "0              26707      0.097909          0.226481\n",
       "1              26708      0.039345          0.038937\n",
       "2              26709      0.305264          0.813061\n",
       "3              26710      0.570966          0.845609\n",
       "4              26711      0.220298          0.446692\n",
       "...              ...           ...               ...\n",
       "26703          53410      0.341949          0.496043\n",
       "26704          53411      0.093347          0.384131\n",
       "26705          53412      0.124747          0.212598\n",
       "26706          53413      0.056787          0.348626\n",
       "26707          53414      0.494462          0.649477\n",
       "\n",
       "[26708 rows x 3 columns]"
      ]
     },
     "execution_count": 37,
     "metadata": {},
     "output_type": "execute_result"
    }
   ],
   "source": [
    "check"
   ]
  },
  {
   "cell_type": "code",
   "execution_count": 38,
   "id": "2cc821b8",
   "metadata": {
    "execution": {
     "iopub.execute_input": "2024-06-17T18:07:07.425066Z",
     "iopub.status.busy": "2024-06-17T18:07:07.424651Z",
     "iopub.status.idle": "2024-06-17T18:07:07.592979Z",
     "shell.execute_reply": "2024-06-17T18:07:07.591813Z"
    },
    "papermill": {
     "duration": 0.266211,
     "end_time": "2024-06-17T18:07:07.595993",
     "exception": false,
     "start_time": "2024-06-17T18:07:07.329782",
     "status": "completed"
    },
    "tags": []
   },
   "outputs": [],
   "source": [
    "check.to_csv(\"submission.csv\")"
   ]
  },
  {
   "cell_type": "code",
   "execution_count": null,
   "id": "910c6b7e",
   "metadata": {
    "papermill": {
     "duration": 0.095468,
     "end_time": "2024-06-17T18:07:07.785378",
     "exception": false,
     "start_time": "2024-06-17T18:07:07.689910",
     "status": "completed"
    },
    "tags": []
   },
   "outputs": [],
   "source": []
  }
 ],
 "metadata": {
  "kaggle": {
   "accelerator": "none",
   "dataSources": [
    {
     "datasetId": 5227688,
     "sourceId": 8713721,
     "sourceType": "datasetVersion"
    }
   ],
   "dockerImageVersionId": 30732,
   "isGpuEnabled": false,
   "isInternetEnabled": true,
   "language": "python",
   "sourceType": "notebook"
  },
  "kernelspec": {
   "display_name": "Python 3",
   "language": "python",
   "name": "python3"
  },
  "language_info": {
   "codemirror_mode": {
    "name": "ipython",
    "version": 3
   },
   "file_extension": ".py",
   "mimetype": "text/x-python",
   "name": "python",
   "nbconvert_exporter": "python",
   "pygments_lexer": "ipython3",
   "version": "3.10.13"
  },
  "papermill": {
   "default_parameters": {},
   "duration": 112.774715,
   "end_time": "2024-06-17T18:07:09.606070",
   "environment_variables": {},
   "exception": null,
   "input_path": "__notebook__.ipynb",
   "output_path": "__notebook__.ipynb",
   "parameters": {},
   "start_time": "2024-06-17T18:05:16.831355",
   "version": "2.5.0"
  }
 },
 "nbformat": 4,
 "nbformat_minor": 5
}
